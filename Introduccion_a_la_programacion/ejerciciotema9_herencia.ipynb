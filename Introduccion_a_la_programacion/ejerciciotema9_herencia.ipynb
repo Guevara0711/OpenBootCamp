{
 "cells": [
  {
   "cell_type": "code",
   "execution_count": 1,
   "metadata": {},
   "outputs": [],
   "source": [
    "class Persona:\n",
    "    def __init__(self, nombre, edad, telefono):\n",
    "        self.nombre = nombre\n",
    "        self.edad = edad\n",
    "        self.telefono = telefono\n",
    "\n",
    "class Cliente(Persona):\n",
    "    def __init__(self, nombre, edad, telefono, credito):\n",
    "        super().__init__(nombre, edad, telefono)\n",
    "        self.credito = credito\n",
    "\n",
    "class Trabajador(Persona):\n",
    "    def __init__(self, nombre, edad, telefono, salario):\n",
    "        super().__init__(nombre, edad, telefono)\n",
    "        self.salario = salario\n"
   ]
  },
  {
   "cell_type": "code",
   "execution_count": 4,
   "metadata": {},
   "outputs": [
    {
     "name": "stdout",
     "output_type": "stream",
     "text": [
      "El cliente Pedro tiene 25 años y su número de teléfono es 123456789 y su crédito es de 1000 euros\n",
      "El trabajador Juan tiene 30 años y su número de teléfono es 987654321 y su salario es de 1500 euros\n"
     ]
    }
   ],
   "source": [
    "cliente1 = Cliente(\"Pedro\", 25, 123456789, 1000)\n",
    "trabajador1 = Trabajador(\"Juan\", 30, 987654321, 1500)\n",
    "\n",
    "print(\"El cliente\", cliente1.nombre, \"tiene\", cliente1.edad, \"años y su número de teléfono es\", cliente1.telefono, \"y su crédito es de\", cliente1.credito, \"euros\")\n",
    "print(\"El trabajador\", trabajador1.nombre, \"tiene\", trabajador1.edad, \"años y su número de teléfono es\", trabajador1.telefono, \"y su salario es de\", trabajador1.salario, \"euros\")\n"
   ]
  }
 ],
 "metadata": {
  "kernelspec": {
   "display_name": "base",
   "language": "python",
   "name": "python3"
  },
  "language_info": {
   "codemirror_mode": {
    "name": "ipython",
    "version": 3
   },
   "file_extension": ".py",
   "mimetype": "text/x-python",
   "name": "python",
   "nbconvert_exporter": "python",
   "pygments_lexer": "ipython3",
   "version": "3.9.12"
  },
  "orig_nbformat": 4
 },
 "nbformat": 4,
 "nbformat_minor": 2
}
