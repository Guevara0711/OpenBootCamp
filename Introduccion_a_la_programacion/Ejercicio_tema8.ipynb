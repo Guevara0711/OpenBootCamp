{
 "cells": [
  {
   "cell_type": "code",
   "execution_count": 4,
   "metadata": {},
   "outputs": [
    {
     "name": "stdout",
     "output_type": "stream",
     "text": [
      "Nombre:  Pedro\n",
      "Edad:  21\n",
      "Telefono:  6666-6666\n"
     ]
    }
   ],
   "source": [
    "#crea una clase persona \n",
    "class Persona:\n",
    "    #Crear variables las privadas edad, nombre y telefono de la clase Persona\n",
    "    def __init__(self, edad, nombre, telefono):\n",
    "        self.__edad = edad\n",
    "        self.__nombre = nombre\n",
    "        self.__telefono = telefono\n",
    "        #Crear gets y sets de cada propiedad.\n",
    "    def getEdad(self):\n",
    "        return self.__edad\n",
    "    def setEdad(self, edad):\n",
    "        self.__edad = edad\n",
    "    def getNombre(self):\n",
    "        return self.__nombre\n",
    "    def setNombre(self, nombre):\n",
    "        self.__nombre = nombre\n",
    "    def getTelefono(self):\n",
    "        return self.__telefono\n",
    "    def setTelefono(self, telefono):\n",
    "        self.__telefono = telefono\n",
    "        #Crear un objeto persona en el main\n",
    "if __name__ == \"__main__\":\n",
    "    #Utiliza los gets y sets para darle valores a las propiedades edad, nombre y telefono\n",
    "    persona = Persona(21, \"Pedro\", 666666666)\n",
    "    persona.setEdad(21)\n",
    "    persona.setNombre(\"Pedro\")\n",
    "    persona.setTelefono(\"6666\"\"-\"\"6666\")\n",
    "    #Imprime los valores de las propiedades edad, nombre y telefono\n",
    "    print(\"Nombre: \", persona.getNombre())\n",
    "    print(\"Edad: \", persona.getEdad())\n",
    "    print(\"Telefono: \", persona.getTelefono())"
   ]
  }
 ],
 "metadata": {
  "kernelspec": {
   "display_name": "Python 3.9.12 ('base')",
   "language": "python",
   "name": "python3"
  },
  "language_info": {
   "codemirror_mode": {
    "name": "ipython",
    "version": 3
   },
   "file_extension": ".py",
   "mimetype": "text/x-python",
   "name": "python",
   "nbconvert_exporter": "python",
   "pygments_lexer": "ipython3",
   "version": "3.9.12"
  },
  "orig_nbformat": 4,
  "vscode": {
   "interpreter": {
    "hash": "40d3a090f54c6569ab1632332b64b2c03c39dcf918b08424e98f38b5ae0af88f"
   }
  }
 },
 "nbformat": 4,
 "nbformat_minor": 2
}
